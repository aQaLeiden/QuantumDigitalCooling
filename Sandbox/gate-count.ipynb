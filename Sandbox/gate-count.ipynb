{
 "cells": [
  {
   "cell_type": "code",
   "execution_count": 39,
   "metadata": {
    "ExecuteTime": {
     "end_time": "2020-06-08T19:56:34.181830Z",
     "start_time": "2020-06-08T19:56:29.192177Z"
    }
   },
   "outputs": [
    {
     "name": "stdout",
     "output_type": "stream",
     "text": [
      "System: L = 7, J/B = 0.2\n",
      "    hamiltonian spread = 2\n",
      "    GS gap = ε_min = 0.23165622454505297\n",
      "> LogSweep protocol with K = 2:\n",
      "    maximum transition energy = 0.3051041444668817\n",
      "    delta factor = delta_factor\n",
      "    total number of trotter steps: 1323\n",
      "    circuit depth = 7980\n",
      "    number of gates = 30471\n",
      "\n",
      "System: L = 7, J/B = 1\n",
      "    hamiltonian spread = 2\n",
      "    GS gap = ε_min = 0.048806463119834165\n",
      "> LogSweep protocol with K = 2:\n",
      "    maximum transition energy = 0.5220327835387703\n",
      "    delta factor = delta_factor\n",
      "    total number of trotter steps: 1260\n",
      "    circuit depth = 7602\n",
      "    number of gates = 29022\n",
      "\n",
      "System: L = 7, J/B = 5\n",
      "    hamiltonian spread = 2\n",
      "    GS gap = ε_min = 0.27126598015086945\n",
      "> LogSweep protocol with K = 2:\n",
      "    maximum transition energy = 0.6600588566377121\n",
      "    delta factor = delta_factor\n",
      "    total number of trotter steps: 420\n",
      "    circuit depth = 2562\n",
      "    number of gates = 9702\n",
      "\n"
     ]
    }
   ],
   "source": [
    "from qdclib import qdccirq\n",
    "from qdclib import spinmodels\n",
    "from openfermion import ops, transforms\n",
    "from qdclib.qdcutils import perp_norm, logsweep_params\n",
    "\n",
    "L = 7\n",
    "K = 2\n",
    "for JvB in [0.2, 1, 5]:\n",
    "    print(f'System: L = {L}, J/B = {JvB}')\n",
    "    system = spinmodels.TFIMChain(L, JvB, 1)\n",
    "    system.normalize()\n",
    "    print(f'    hamiltonian spread = 2')\n",
    "    print(f'    GS gap = ε_min = {system.ground_state_gap()}')\n",
    "    \n",
    "    for K in [2]:\n",
    "        print(f'> LogSweep protocol with K = {K}:')\n",
    "\n",
    "        ### from qdccirq.logsweep_protocol:\n",
    "        coupl_potentials = [\n",
    "            transforms.get_sparse_operator(ops.QubitOperator((i, P),), n_qubits=L)\n",
    "            for i in range(L) for P in ('X', 'Y', 'Z')\n",
    "        ]\n",
    "        e_max_transitions = max(perp_norm(cp, system.get_sparse_hamiltonian())\n",
    "                                for cp in coupl_potentials)\n",
    "\n",
    "        print(f'    maximum transition energy = {e_max_transitions}')\n",
    "\n",
    "        # define e_min, e_max using perp_norm on sparse matrices\n",
    "        e_min = system.ground_state_gap()\n",
    "        e_max = e_max_transitions\n",
    "\n",
    "        # define delta_factor\n",
    "        h = e_max / e_min\n",
    "        R = np.log(h) * ((1 - h) / (2 * (1 + h)) + np.log(2 * h / (1 + h)))\n",
    "        delta_factor = np.log(K * 8 / R) / 2 / np.pi\n",
    "\n",
    "        print(f'    delta factor = delta_factor')\n",
    "\n",
    "        epsilon_list, delta_list = logsweep_params(e_min, e_max, K, delta_factor)\n",
    "\n",
    "\n",
    "        ### from qdccirq.energy_sweep_protocol\n",
    "        eigvals, eigvecs = system.eig()\n",
    "        spectral_spread = eigvals[-1] - eigvals[0]\n",
    "\n",
    "\n",
    "        ### adapted from qdccirq.weak_coupling_step\n",
    "        trotter_factor = 2\n",
    "        trotter_number_f = lambda delta: int(\n",
    "            trotter_factor * np.sqrt(1 + (spectral_spread) ** 2 / (np.pi * delta) ** 2)\n",
    "        )\n",
    "        trotter_number_list = [trotter_number_f(delta)*len(coupl_potentials) for delta in delta_list]\n",
    "        print(f'    total number of trotter steps: {np.sum(trotter_number_list)}', flush=True)\n",
    "        \n",
    "#         circuit = qdccirq.logsweep_protocol(system, K)\n",
    "#         print(f'    circuit depth = {len(circuit)}')\n",
    "#         gates = 0\n",
    "#         for _ in circuit.all_operations():\n",
    "#             gates +=1\n",
    "#         print(f'    number of gates = {gates}', flush = True)\n",
    "\n",
    "    print()"
   ]
  },
  {
   "cell_type": "code",
   "execution_count": 3,
   "metadata": {
    "ExecuteTime": {
     "end_time": "2020-06-09T12:46:00.784335Z",
     "start_time": "2020-06-09T12:45:56.201334Z"
    }
   },
   "outputs": [],
   "source": [
    "from qdclib import qdccirq\n",
    "from qdclib import spinmodels\n",
    "from openfermion import ops, transforms\n",
    "from qdclib.qdcutils import perp_norm, logsweep_params\n",
    "\n",
    "def total_trotter_steps(L, JvB, K):\n",
    "    \n",
    "    ### from qdccirq.logsweep_protocol\n",
    "    \n",
    "    system = spinmodels.TFIMChain(L, JvB, 1)\n",
    "    system.normalize()\n",
    "    coupl_potentials = [\n",
    "        transforms.get_sparse_operator(ops.QubitOperator((i, P),), n_qubits=L)\n",
    "        for i in range(L) for P in ('X', 'Y', 'Z')\n",
    "    ]\n",
    "    e_max_transitions = max(perp_norm(cp, system.get_sparse_hamiltonian())\n",
    "                            for cp in coupl_potentials)\n",
    "    # define e_min, e_max using perp_norm on sparse matrices\n",
    "    e_min = system.ground_state_gap()\n",
    "    e_max = e_max_transitions\n",
    "\n",
    "    # define delta_factor\n",
    "    h = e_max / e_min\n",
    "    R = np.log(h) * ((1 - h) / (2 * (1 + h)) + np.log(2 * h / (1 + h)))\n",
    "    delta_factor = np.log(K * 8 / R) / 2 / np.pi\n",
    "    \n",
    "    epsilon_list, delta_list = logsweep_params(e_min, e_max, K, delta_factor)\n",
    "\n",
    "    \n",
    "    ### from qdccirq.energy_sweep_protocol\n",
    "    \n",
    "    eigvals, eigvecs = system.eig()\n",
    "    spectral_spread = eigvals[-1] - eigvals[0]\n",
    "\n",
    "    \n",
    "    ### adapted from qdccirq.weak_coupling_step\n",
    "    trotter_factor = 2\n",
    "    trotter_number_f = lambda delta: int(\n",
    "        trotter_factor * np.sqrt(1 + (spectral_spread) ** 2 / (np.pi * delta) ** 2)\n",
    "    )\n",
    "    return sum((trotter_number_f(delta)*len(coupl_potentials) for delta in delta_list))"
   ]
  },
  {
   "cell_type": "code",
   "execution_count": 4,
   "metadata": {
    "ExecuteTime": {
     "end_time": "2020-06-09T12:46:00.823936Z",
     "start_time": "2020-06-09T12:46:00.817317Z"
    }
   },
   "outputs": [],
   "source": [
    "import matplotlib.pyplot as plt\n",
    "%matplotlib inline"
   ]
  },
  {
   "cell_type": "markdown",
   "metadata": {},
   "source": [
    "# vs L, K=2"
   ]
  },
  {
   "cell_type": "code",
   "execution_count": 5,
   "metadata": {
    "ExecuteTime": {
     "end_time": "2020-06-09T12:50:59.525230Z",
     "start_time": "2020-06-09T12:46:00.855689Z"
    }
   },
   "outputs": [],
   "source": [
    "JvBlist = [.2, 1, 5] \n",
    "Llist = np.arange(2, 13)\n",
    "K = 2\n",
    "\n",
    "tts_lists_vsL = [[total_trotter_steps(L, JvB, K) for JvB in JvBlist] for L in Llist]"
   ]
  },
  {
   "cell_type": "markdown",
   "metadata": {},
   "source": [
    "6s exec for arange(2, 10)\n",
    "\n",
    "50s exec for arange(2, 12)"
   ]
  },
  {
   "cell_type": "code",
   "execution_count": 6,
   "metadata": {
    "ExecuteTime": {
     "end_time": "2020-06-09T12:51:00.240257Z",
     "start_time": "2020-06-09T12:50:59.560150Z"
    }
   },
   "outputs": [
    {
     "data": {
      "text/plain": [
       "Text(0, 0.5, 'tot trotter steps')"
      ]
     },
     "execution_count": 6,
     "metadata": {},
     "output_type": "execute_result"
    },
    {
     "data": {
      "image/png": "[encoded data removed]",
      "text/plain": [
       "<Figure size 432x288 with 1 Axes>"
      ]
     },
     "metadata": {
      "needs_background": "light"
     },
     "output_type": "display_data"
    }
   ],
   "source": [
    "plt.title(f'K = {K}')\n",
    "plt.plot(Llist, tts_lists_vsL, 'o', label=' ')\n",
    "plt.gca().set_prop_cycle(None)\n",
    "plt.plot(Llist, Llist**2 / Llist[5]**2 * tts_lists_vsL[5][0], label='$\\propto L^2$')\n",
    "plt.plot(Llist, Llist**3 / Llist[5]**3 * tts_lists_vsL[5][1], label='$\\propto L^3$')\n",
    "plt.plot(Llist, Llist**2 / Llist[5]**2 * tts_lists_vsL[5][2], label='$\\propto L^2$')\n",
    "h, l = plt.gca().get_legend_handles_labels()\n",
    "plt.legend(h, [f'$J/B = {JvB}$' for JvB in JvBlist] + l[3:])\n",
    "plt.xlabel('L')\n",
    "plt.ylabel('tot trotter steps')"
   ]
  },
  {
   "cell_type": "markdown",
   "metadata": {},
   "source": [
    "# vs L, K=10"
   ]
  },
  {
   "cell_type": "code",
   "execution_count": 86,
   "metadata": {
    "ExecuteTime": {
     "end_time": "2020-06-09T09:40:41.626853Z",
     "start_time": "2020-06-09T09:40:27.931111Z"
    }
   },
   "outputs": [],
   "source": [
    "JvBlist = [.2, 1, 5] \n",
    "Llist = np.arange(2, 11)\n",
    "K = 10\n",
    "\n",
    "tts_lists_K10 = [[total_trotter_steps(L, JvB, K) for JvB in JvBlist] for L in Llist]"
   ]
  },
  {
   "cell_type": "code",
   "execution_count": 87,
   "metadata": {
    "ExecuteTime": {
     "end_time": "2020-06-09T09:40:58.790578Z",
     "start_time": "2020-06-09T09:40:58.517100Z"
    }
   },
   "outputs": [
    {
     "data": {
      "text/plain": [
       "[<matplotlib.lines.Line2D at 0x7f0642d593c8>]"
      ]
     },
     "execution_count": 87,
     "metadata": {},
     "output_type": "execute_result"
    },
    {
     "data": {
      "image/png": "[encoded data removed]",
      "text/plain": [
       "<Figure size 432x288 with 1 Axes>"
      ]
     },
     "metadata": {
      "needs_background": "light"
     },
     "output_type": "display_data"
    }
   ],
   "source": [
    "plt.title(f'K = {K}')\n",
    "plt.plot(Llist, tts_lists_K10_vsL, 'o', label=' ')\n",
    "plt.gca().set_prop_cycle(None)\n",
    "plt.plot(Llist, Llist**2 / Llist[5]**2 * tts_lists_K10_vsL[5][0], label='$\\propto L^2$')\n",
    "plt.plot(Llist, Llist**3 / Llist[5]**3 * tts_lists_K10_vsL[5][1], label='$\\propto L^3$')\n",
    "plt.plot(Llist, Llist**2 / Llist[5]**2 * tts_lists_K10_vsL[5][2], label='$\\propto L^2$')\n",
    "h, l = plt.gca().get_legend_handles_labels()\n",
    "plt.legend(h, [f'$J/B = {JvB}$' for JvB in JvBlist] + l[3:])\n",
    "plt.xlabel('L')\n",
    "plt.ylabel('tot trotter steps')"
   ]
  },
  {
   "cell_type": "markdown",
   "metadata": {},
   "source": [
    "# vs K, L = 5 "
   ]
  },
  {
   "cell_type": "code",
   "execution_count": 6,
   "metadata": {
    "ExecuteTime": {
     "end_time": "2020-06-09T12:35:40.022646Z",
     "start_time": "2020-06-09T12:35:28.715957Z"
    }
   },
   "outputs": [],
   "source": [
    "JvBlist = [.2, 1, 5] \n",
    "L = 5\n",
    "Klist = np.arange(2, 80, 4)\n",
    "\n",
    "tts_lists_vsK = [[total_trotter_steps(L, JvB, K) for JvB in JvBlist] for K in Klist]"
   ]
  },
  {
   "cell_type": "code",
   "execution_count": 7,
   "metadata": {
    "ExecuteTime": {
     "end_time": "2020-06-09T12:35:40.090979Z",
     "start_time": "2020-06-09T12:35:40.074116Z"
    }
   },
   "outputs": [],
   "source": [
    "def Rfunc(L, JvB):\n",
    "    system = spinmodels.TFIMChain(L, JvB, 1)\n",
    "    system.normalize()\n",
    "    coupl_potentials = [\n",
    "        transforms.get_sparse_operator(ops.QubitOperator((i, P),), n_qubits=L)\n",
    "        for i in range(L) for P in ('X', 'Y', 'Z')\n",
    "    ]\n",
    "    e_max_transitions = max(perp_norm(cp, system.get_sparse_hamiltonian())\n",
    "                            for cp in coupl_potentials)\n",
    "    # define e_min, e_max using perp_norm on sparse matrices\n",
    "    e_min = system.ground_state_gap()\n",
    "    e_max = e_max_transitions\n",
    "\n",
    "    # define delta_factor\n",
    "    h = e_max / e_min\n",
    "    return np.log(h) * ((1 - h) / (2 * (1 + h)) + np.log(2 * h / (1 + h)))"
   ]
  },
  {
   "cell_type": "code",
   "execution_count": 8,
   "metadata": {
    "ExecuteTime": {
     "end_time": "2020-06-09T12:35:41.734361Z",
     "start_time": "2020-06-09T12:35:40.150009Z"
    }
   },
   "outputs": [
    {
     "data": {
      "text/plain": [
       "Text(0, 0.5, 'tot trotter steps')"
      ]
     },
     "execution_count": 8,
     "metadata": {},
     "output_type": "execute_result"
    },
    {
     "data": {
      "image/png": "[encoded data removed]",
      "text/plain": [
       "<Figure size 432x288 with 1 Axes>"
      ]
     },
     "metadata": {
      "needs_background": "light"
     },
     "output_type": "display_data"
    }
   ],
   "source": [
    "plt.title(f'$L={L}$, trend line: $\\propto K^2 / log(8 K / R)$')\n",
    "plt.plot(Klist, tts_lists_vsK, 'o', label = ' ')\n",
    "plt.gca().set_prop_cycle(None)\n",
    "for i, JvB in enumerate(JvBlist):\n",
    "    R = Rfunc(L, JvB)\n",
    "    fit = lambda K: K**2 / np.log(8 * K / R)\n",
    "    plt.plot(Klist, fit(Klist)/fit(Klist[5])*tts_lists_vsK[5][i], label = f'$R = {R:.2}$')\n",
    "    \n",
    "h, l = plt.gca().get_legend_handles_labels()\n",
    "plt.legend(h, [f'$J/B = {JvB}$' for JvB in JvBlist] + l[3:] )\n",
    "plt.xlabel('K')\n",
    "plt.ylabel('tot trotter steps')"
   ]
  }
 ],
 "metadata": {
  "hide_input": false,
  "kernelspec": {
   "display_name": "ste",
   "language": "python",
   "name": "ste"
  },
  "language_info": {
   "codemirror_mode": {
    "name": "ipython",
    "version": 3
   },
   "file_extension": ".py",
   "mimetype": "text/x-python",
   "name": "python",
   "nbconvert_exporter": "python",
   "pygments_lexer": "ipython3",
   "version": "3.7.3"
  },
  "notify_time": "10",
  "toc": {
   "base_numbering": 1,
   "nav_menu": {},
   "number_sections": true,
   "sideBar": true,
   "skip_h1_title": false,
   "title_cell": "Table of Contents",
   "title_sidebar": "Contents",
   "toc_cell": false,
   "toc_position": {},
   "toc_section_display": true,
   "toc_window_display": false
  },
  "varInspector": {
   "cols": {
    "lenName": 16,
    "lenType": 16,
    "lenVar": 40
   },
   "kernels_config": {
    "python": {
     "delete_cmd_postfix": "",
     "delete_cmd_prefix": "del ",
     "library": "var_list.py",
     "varRefreshCmd": "print(var_dic_list())"
    },
    "r": {
     "delete_cmd_postfix": ") ",
     "delete_cmd_prefix": "rm(",
     "library": "var_list.r",
     "varRefreshCmd": "cat(var_dic_list()) "
    }
   },
   "types_to_exclude": [
    "module",
    "function",
    "builtin_function_or_method",
    "instance",
    "_Feature"
   ],
   "window_display": false
  }
 },
 "nbformat": 4,
 "nbformat_minor": 2
}
