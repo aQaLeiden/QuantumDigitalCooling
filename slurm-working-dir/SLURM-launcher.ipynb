{
 "cells": [
  {
   "cell_type": "markdown",
   "metadata": {},
   "source": [
    "# launch scripts through SLURM \n",
    "\n",
    "The script in the cell below submits SLURM jobs running the requested `script`, with all parameters specified in `param_iterators` and the folder where to dump data as last parameter. \n",
    "\n",
    "The generated SBATCH scipts (`.job` files) are saved in the `jobs` folder and then submitted.\n",
    "Output and error dumps are saved in the `out` folder."
   ]
  },
  {
   "cell_type": "code",
   "execution_count": 28,
   "metadata": {
    "ExecuteTime": {
     "end_time": "2020-05-20T17:10:06.837357Z",
     "start_time": "2020-05-20T17:10:06.810391Z"
    }
   },
   "outputs": [],
   "source": [
    "import numpy as np\n",
    "import os\n",
    "from itertools import product\n",
    "\n",
    "\n",
    "#######################\n",
    "### User parameters ###\n",
    "#######################\n",
    "\n",
    "script = \"TFIM-logsweep-WF.py\" # name of the script to be run\n",
    "data_subdir = \"TFIM/logsweep/WF\" # subdirectory of ´data´ where to save results\n",
    "jobname_template = \"WF-L{}JvB{}K{}\"  # job name will be created from this, inserting parameter values\n",
    "\n",
    "param_iterators = (\n",
    "    [11], # L\n",
    "    [0.2, 1, 5], # JvB\n",
    "    [2, 3, 5, 10, 20, 40], # K\n",
    "    [100] # n_samples\n",
    ")\n",
    "\n",
    "time = \"3-00:00\"  # format days-hh:mm\n",
    "mem = \"20GB\"  # can use postfixes (MB, GB, ...)\n",
    "partition = \"ibIntel\"\n",
    "\n",
    "# insert here additional lines that should be run before the script \n",
    "# (source bash scripts, load modules, activate environment, etc.) \n",
    "additional_lines = [\n",
    "    'source ~/.bashrc\\n'\n",
    "]\n",
    "\n",
    "\n",
    "#####################################\n",
    "### Create folders, files and run ###\n",
    "#####################################\n",
    "\n",
    "current_dir = os.getcwd()\n",
    "script = os.path.join(*os.path.split(current_dir)[:-1], 'scripts', script)\n",
    "data_supdir = os.path.join(*os.path.split(current_dir)[:-1], 'data')\n",
    "data_dir = os.path.join(data_supdir, data_subdir)\n",
    "job_dir = 'jobs'\n",
    "out_dir = 'out'\n",
    "\n",
    "os.makedirs(job_dir, exist_ok=True)\n",
    "os.makedirs(out_dir, exist_ok=True)\n",
    "os.makedirs(data_dir, exist_ok=True)\n",
    "\n",
    "for params in product(*param_iterators):\n",
    "    \n",
    "    job_name = jobname_template.format(*params)\n",
    "    job_file = os.path.join(job_dir, job_name+'.job')\n",
    "    \n",
    "    with open(job_file, 'wt') as fh:\n",
    "        fh.writelines(\n",
    "            [\"#!/bin/bash\\n\",\n",
    "            f\"#SBATCH --job-name={job_name}\\n\",\n",
    "            f\"#SBATCH --output={os.path.join(out_dir, job_name+'.out')}\\n\",\n",
    "            f\"#SBATCH --error={os.path.join(out_dir, job_name+'.err')}\\n\",\n",
    "            f\"#SBATCH --time={time}\\n\",\n",
    "            f\"#SBATCH --mem={mem}\\n\",\n",
    "            f\"#SBATCH --partition={partition}\\n\",\n",
    "            f\"#SBATCH --mail-type=NONE\\n\",\n",
    "            ] + additional_lines + [\n",
    "            f\"python -u {script} {' '.join(str(par) for par in params)} {data_dir}\\n\"]\n",
    "        )\n",
    "\n",
    "    os.system(\"sbatch %s\" %job_file)"
   ]
  },
  {
   "cell_type": "code",
   "execution_count": 26,
   "metadata": {},
   "outputs": [
    {
     "data": {
      "text/plain": [
       "34.359738368"
      ]
     },
     "execution_count": 26,
     "metadata": {},
     "output_type": "execute_result"
    }
   ],
   "source": [
    "complex(1).__sizeof__() * 2**(2*15) / 1E9"
   ]
  },
  {
   "cell_type": "markdown",
   "metadata": {},
   "source": [
    "# History of parameters that have been run"
   ]
  },
  {
   "cell_type": "markdown",
   "metadata": {},
   "source": [
    "## TFIM logsweep density matrix "
   ]
  },
  {
   "cell_type": "code",
   "execution_count": 2,
   "metadata": {},
   "outputs": [],
   "source": [
    "script = \"TFIM-logsweep-DM.py\"\n",
    "data_subdir = \"TFIM/logsweep/DM\""
   ]
  },
  {
   "cell_type": "code",
   "execution_count": 3,
   "metadata": {},
   "outputs": [],
   "source": [
    "param_iterators = (\n",
    "    [2], # L\n",
    "    [0.2, 1, 5], # JvB\n",
    "    np.arange(2, 50) # K\n",
    ")"
   ]
  },
  {
   "cell_type": "code",
   "execution_count": 4,
   "metadata": {},
   "outputs": [],
   "source": [
    "param_iterators = (\n",
    "    [7], # L\n",
    "    [0.2, 1, 5], # JvB\n",
    "    np.arange(2, 50) # K\n",
    ")"
   ]
  },
  {
   "cell_type": "code",
   "execution_count": 5,
   "metadata": {},
   "outputs": [],
   "source": [
    "param_iterators = (\n",
    "    np.arange(2, 11), # L\n",
    "    [0.2, 1, 5], # JvB\n",
    "    [2, 5, 10, 20, 40] # K\n",
    ")"
   ]
  },
  {
   "cell_type": "markdown",
   "metadata": {},
   "source": [
    "## TFIM recursive-logsweep density matrix"
   ]
  },
  {
   "cell_type": "code",
   "execution_count": null,
   "metadata": {},
   "outputs": [],
   "source": [
    "script = \"TFIM-logsweep-DM-iterative.py\" # name of the script to be run\n",
    "data_subdir = \"TFIM/logsweep/DM/iterative\" # subdirectory of ´data´ where to save results\n",
    "jobname_template = \"ItLS-L{}JvB{}K{}\"  # job name will be created from this, inserting parameter values\n",
    "\n",
    "param_iterators = (\n",
    "    [2, 7], # L\n",
    "    [0.2, 1, 5], # JvB\n",
    "    np.arange(2, 50) # K\n",
    ")"
   ]
  },
  {
   "cell_type": "markdown",
   "metadata": {},
   "source": [
    "## TFIM logsweep Wave Function Monte Carlo"
   ]
  },
  {
   "cell_type": "code",
   "execution_count": null,
   "metadata": {},
   "outputs": [],
   "source": [
    "script = \"TFIM-logsweep-WF.py\" # name of the script to be run\n",
    "data_subdir = \"TFIM/logsweep/WF\" # subdirectory of ´data´ where to save results\n",
    "jobname_template = \"WF-L{}JvB{}K{}\"  # job name will be created from this, inserting parameter values\n",
    "\n",
    "param_iterators = (\n",
    "    np.arange(14, 20), # L\n",
    "    [0.2, 1, 5], # JvB\n",
    "    [2, 3, 5, 10, 20, 40], # K\n",
    "    [100] # n_samples\n",
    ")"
   ]
  },
  {
   "cell_type": "markdown",
   "metadata": {},
   "source": [
    "## TFIM logsweep continuous DM"
   ]
  },
  {
   "cell_type": "code",
   "execution_count": null,
   "metadata": {},
   "outputs": [],
   "source": [
    "script = \"TFIM-logsweep-continuous-DM.py\" # name of the script to be run\n",
    "data_subdir = \"TFIM/logsweep/continuous/DM\" # subdirectory of ´data´ where to save results\n",
    "jobname_template = \"Rh-L{}JvB{}K{}\"  # job name will be created from this, inserting parameter values\n",
    "\n",
    "param_iterators = (\n",
    "    np.arange(2,7), # L\n",
    "    [0.2, 1, 5], # JvB\n",
    "    [2, 3, 5, 10, 20, 40] # K\n",
    ")"
   ]
  },
  {
   "cell_type": "code",
   "execution_count": null,
   "metadata": {},
   "outputs": [],
   "source": [
    "param_iterators = (\n",
    "    [7], # L\n",
    "    [0.2, 1, 5], # JvB\n",
    "    np.arange(2, 50) # K\n",
    ")"
   ]
  },
  {
   "cell_type": "code",
   "execution_count": null,
   "metadata": {},
   "outputs": [],
   "source": [
    "param_iterators = (\n",
    "    np.arange(8, 15), # L\n",
    "    [0.2, 1, 5], # JvB\n",
    "    [2,3,5,10,20,40] # K\n",
    ")"
   ]
  }
 ],
 "metadata": {
  "hide_input": false,
  "kernelspec": {
   "display_name": "ste",
   "language": "python",
   "name": "ste"
  },
  "language_info": {
   "codemirror_mode": {
    "name": "ipython",
    "version": 3
   },
   "file_extension": ".py",
   "mimetype": "text/x-python",
   "name": "python",
   "nbconvert_exporter": "python",
   "pygments_lexer": "ipython3",
   "version": "3.7.3"
  },
  "toc": {
   "base_numbering": 1,
   "nav_menu": {},
   "number_sections": true,
   "sideBar": true,
   "skip_h1_title": false,
   "title_cell": "Table of Contents",
   "title_sidebar": "Contents",
   "toc_cell": false,
   "toc_position": {
    "height": "calc(100% - 180px)",
    "left": "10px",
    "top": "150px",
    "width": "222.934px"
   },
   "toc_section_display": true,
   "toc_window_display": true
  },
  "varInspector": {
   "cols": {
    "lenName": 16,
    "lenType": 16,
    "lenVar": 40
   },
   "kernels_config": {
    "python": {
     "delete_cmd_postfix": "",
     "delete_cmd_prefix": "del ",
     "library": "var_list.py",
     "varRefreshCmd": "print(var_dic_list())"
    },
    "r": {
     "delete_cmd_postfix": ") ",
     "delete_cmd_prefix": "rm(",
     "library": "var_list.r",
     "varRefreshCmd": "cat(var_dic_list()) "
    }
   },
   "types_to_exclude": [
    "module",
    "function",
    "builtin_function_or_method",
    "instance",
    "_Feature"
   ],
   "window_display": false
  }
 },
 "nbformat": 4,
 "nbformat_minor": 4
}
