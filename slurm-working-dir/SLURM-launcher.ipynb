{
 "cells": [
  {
   "cell_type": "markdown",
   "metadata": {},
   "source": [
    "# launch scripts through SLURM \n",
    "\n",
    "The script in the cell below submits SLURM jobs running the requested `script`, with all parameters specified in `param_iterators` and the folder where to dump data as last parameter. \n",
    "\n",
    "The generated SBATCH scipts (`.job` files) are saved in the `jobs` folder and then submitted.\n",
    "Output and error dumps are saved in the `out` folder."
   ]
  },
  {
   "cell_type": "code",
   "execution_count": 11,
   "metadata": {
    "ExecuteTime": {
     "end_time": "2020-06-30T13:47:32.773222Z",
     "start_time": "2020-06-30T13:47:32.226503Z"
    }
   },
   "outputs": [],
   "source": [
    "import numpy as np\n",
    "import os\n",
    "from itertools import product\n",
    "\n",
    "\n",
    "#######################\n",
    "### User parameters ###\n",
    "#######################\n",
    "\n",
    "script = \"TFIM-bangbang-WF.py\" # name of the script to be run\n",
    "data_subdir = \"TFIM/bangbang/WF\" # subdirectory of ´data´ where to save results\n",
    "jobname_template = \"BBWF-L{}JvB{}nit{}\"  # job name will be created from this, inserting parameter values\n",
    "\n",
    "param_iterators = (\n",
    "    np.arange(16, 21), # L\n",
    "    [0.2, 1, 5], # JvB\n",
    "    [None], # nit\n",
    "    [200] # n_samples\n",
    ")\n",
    "\n",
    "time = \"4-00:00\"  # format days-hh:mm\n",
    "mem = \"4GB\"  # can use postfixes (MB, GB, ...)\n",
    "partition = \"compIntel\"\n",
    "\n",
    "# insert here additional lines that should be run before the script \n",
    "# (source bash scripts, load modules, activate environment, etc.) \n",
    "additional_lines = [\n",
    "    'source ~/.bashrc\\n'\n",
    "]\n",
    "\n",
    "\n",
    "#####################################\n",
    "### Create folders, files and run ###\n",
    "#####################################\n",
    "\n",
    "current_dir = os.getcwd()\n",
    "script = os.path.join(*os.path.split(current_dir)[:-1], 'scripts', script)\n",
    "data_supdir = os.path.join(*os.path.split(current_dir)[:-1], 'data')\n",
    "data_dir = os.path.join(data_supdir, data_subdir)\n",
    "job_dir = 'jobs'\n",
    "out_dir = 'out'\n",
    "\n",
    "os.makedirs(job_dir, exist_ok=True)\n",
    "os.makedirs(out_dir, exist_ok=True)\n",
    "os.makedirs(data_dir, exist_ok=True)\n",
    "\n",
    "for params in product(*param_iterators):\n",
    "    \n",
    "    # ******** for BangBang ********\n",
    "    # redefine nit = L if it is None\n",
    "    if params[2] is None:\n",
    "        params = list(params)\n",
    "        params[2] = params[0]\n",
    "    # ******************************   \n",
    "    \n",
    "    job_name = jobname_template.format(*params)\n",
    "    job_file = os.path.join(job_dir, job_name+'.job')\n",
    "    \n",
    "    with open(job_file, 'wt') as fh:\n",
    "        fh.writelines(\n",
    "            [\"#!/bin/bash\\n\",\n",
    "            f\"#SBATCH --job-name={job_name}\\n\",\n",
    "            f\"#SBATCH --output={os.path.join(out_dir, job_name+'.out')}\\n\",\n",
    "            f\"#SBATCH --error={os.path.join(out_dir, job_name+'.err')}\\n\",\n",
    "            f\"#SBATCH --time={time}\\n\",\n",
    "            f\"#SBATCH --mem={mem}\\n\",\n",
    "            f\"#SBATCH --partition={partition}\\n\",\n",
    "            f\"#SBATCH --mail-type=NONE\\n\",\n",
    "            ] + additional_lines + [\n",
    "            f\"python -u {script} {' '.join(str(par) for par in params)} {data_dir}\\n\"]\n",
    "        )\n",
    "\n",
    "    os.system(\"sbatch %s\" %job_file)"
   ]
  },
  {
   "cell_type": "code",
   "execution_count": 10,
   "metadata": {},
   "outputs": [
    {
     "data": {
      "text/plain": [
       "34.359738368"
      ]
     },
     "execution_count": 10,
     "metadata": {},
     "output_type": "execute_result"
    }
   ],
   "source": [
    "complex(1).__sizeof__() * 2**(2*15) / 1E9"
   ]
  },
  {
   "cell_type": "markdown",
   "metadata": {},
   "source": [
    "# History of parameters that have been run"
   ]
  },
  {
   "cell_type": "markdown",
   "metadata": {},
   "source": [
    "## TFIM LogSweep"
   ]
  },
  {
   "cell_type": "markdown",
   "metadata": {},
   "source": [
    "### density matrix "
   ]
  },
  {
   "cell_type": "code",
   "execution_count": 2,
   "metadata": {},
   "outputs": [],
   "source": [
    "script = \"TFIM-logsweep-DM.py\"\n",
    "data_subdir = \"TFIM/logsweep/DM\""
   ]
  },
  {
   "cell_type": "code",
   "execution_count": 3,
   "metadata": {},
   "outputs": [],
   "source": [
    "param_iterators = (\n",
    "    [2], # L\n",
    "    [0.2, 1, 5], # JvB\n",
    "    np.arange(2, 50) # K\n",
    ")"
   ]
  },
  {
   "cell_type": "code",
   "execution_count": 4,
   "metadata": {},
   "outputs": [],
   "source": [
    "param_iterators = (\n",
    "    [7], # L\n",
    "    [0.2, 1, 5], # JvB\n",
    "    np.arange(2, 50) # K\n",
    ")"
   ]
  },
  {
   "cell_type": "code",
   "execution_count": 5,
   "metadata": {},
   "outputs": [],
   "source": [
    "param_iterators = (\n",
    "    np.arange(2, 11), # L\n",
    "    [0.2, 1, 5], # JvB\n",
    "    [2, 5, 10, 20, 40] # K\n",
    ")"
   ]
  },
  {
   "cell_type": "markdown",
   "metadata": {},
   "source": [
    "### Iterative, density matrix"
   ]
  },
  {
   "cell_type": "code",
   "execution_count": null,
   "metadata": {},
   "outputs": [],
   "source": [
    "script = \"TFIM-logsweep-DM-iterative.py\" # name of the script to be run\n",
    "data_subdir = \"TFIM/logsweep/DM/iterative\" # subdirectory of ´data´ where to save results\n",
    "jobname_template = \"ItLS-L{}JvB{}K{}\"  # job name will be created from this, inserting parameter values\n",
    "\n",
    "param_iterators = (\n",
    "    [2, 7], # L\n",
    "    [0.2, 1, 5], # JvB\n",
    "    np.arange(2, 50) # K\n",
    ")"
   ]
  },
  {
   "cell_type": "markdown",
   "metadata": {},
   "source": [
    "### WF + Monte Carlo"
   ]
  },
  {
   "cell_type": "markdown",
   "metadata": {},
   "source": [
    "#### old version of the script \n",
    "the old version suffered from unnormalized final states due to numerical error"
   ]
  },
  {
   "cell_type": "code",
   "execution_count": null,
   "metadata": {},
   "outputs": [],
   "source": [
    "script = \"TFIM-logsweep-WF.py\" # name of the script to be run\n",
    "data_subdir = \"TFIM/logsweep/WF-raw\" # subdirectory of ´data´ where to save results\n",
    "jobname_template = \"WF-L{}JvB{}K{}\"  # job name will be created from this, inserting parameter values\n",
    "\n",
    "param_iterators = (\n",
    "    np.arange(2, 15), # L\n",
    "    [0.2, 1, 5], # JvB\n",
    "    [2, 3, 5, 10, 20, 40], # K\n",
    "    [100] # n_samples\n",
    ")"
   ]
  },
  {
   "cell_type": "markdown",
   "metadata": {},
   "source": [
    "#### new version of the script \n",
    "Where normalization is forced"
   ]
  },
  {
   "cell_type": "code",
   "execution_count": null,
   "metadata": {},
   "outputs": [],
   "source": [
    "script = \"TFIM-logsweep-WF.py\" # name of the script to be run\n",
    "data_subdir = \"TFIM/logsweep/WF\" # subdirectory of ´data´ where to save results\n",
    "jobname_template = \"WF-L{}JvB{}K{}\"  # job name will be created from this, inserting parameter values\n",
    "\n",
    "param_iterators = (\n",
    "    np.arange(2, 10), # L\n",
    "    [0.2, 1, 5], # JvB\n",
    "    [2, 3, 5, 10], # K\n",
    "    [100] # n_samples\n",
    ")\n",
    "\n",
    "time = \"3-00:00\"  # format days-hh:mm\n",
    "mem = \"1GB\"  # can use postfixes (MB, GB, ...)\n",
    "partition = \"compIntel\""
   ]
  },
  {
   "cell_type": "code",
   "execution_count": null,
   "metadata": {},
   "outputs": [],
   "source": [
    "script = \"TFIM-logsweep-WF.py\" # name of the script to be run\n",
    "data_subdir = \"TFIM/logsweep/WF\" # subdirectory of ´data´ where to save results\n",
    "jobname_template = \"WF-L{}JvB{}K{}\"  # job name will be created from this, inserting parameter values\n",
    "\n",
    "param_iterators = (\n",
    "    np.arange(10, 14), # L\n",
    "    [0.2, 1, 5], # JvB\n",
    "    [2, 3, 5, 10], # K\n",
    "    [100] # n_samples\n",
    ")\n",
    "\n",
    "time = \"3-00:00\"  # format days-hh:mm\n",
    "mem = \"20GB\"  # can use postfixes (MB, GB, ...)\n",
    "partition = \"compIntel\""
   ]
  },
  {
   "cell_type": "markdown",
   "metadata": {},
   "source": [
    "### iterative, WF + Monte Carlo"
   ]
  },
  {
   "cell_type": "code",
   "execution_count": null,
   "metadata": {},
   "outputs": [],
   "source": [
    "script = \"TFIM-logsweep-WF-iterative.py\" # name of the script to be run\n",
    "data_subdir = \"TFIM/logsweep/WF/iterative\" # subdirectory of ´data´ where to save results\n",
    "jobname_template = \"WFiter-L{}JvB{}K{}\"  # job name will be created from this, inserting parameter values\n",
    "\n",
    "param_iterators = (\n",
    "    np.arange(2, 14), # L\n",
    "    [0.2, 1, 5], # JvB\n",
    "    [5, 10], # K\n",
    "    [100] # n_samples\n",
    ")\n",
    "\n",
    "time = \"3-00:00\"  # format days-hh:mm\n",
    "mem = \"20GB\"  # can use postfixes (MB, GB, ...)\n",
    "partition = \"ibIntel\""
   ]
  },
  {
   "cell_type": "markdown",
   "metadata": {},
   "source": [
    "### continuous DM"
   ]
  },
  {
   "cell_type": "code",
   "execution_count": null,
   "metadata": {},
   "outputs": [],
   "source": [
    "script = \"TFIM-logsweep-continuous-DM.py\" # name of the script to be run\n",
    "data_subdir = \"TFIM/logsweep/continuous/DM\" # subdirectory of ´data´ where to save results\n",
    "jobname_template = \"Rh-L{}JvB{}K{}\"  # job name will be created from this, inserting parameter values\n",
    "\n",
    "param_iterators = (\n",
    "    np.arange(2,7), # L\n",
    "    [0.2, 1, 5], # JvB\n",
    "    [2, 3, 5, 10, 20, 40] # K\n",
    ")"
   ]
  },
  {
   "cell_type": "code",
   "execution_count": null,
   "metadata": {},
   "outputs": [],
   "source": [
    "param_iterators = (\n",
    "    [7], # L\n",
    "    [0.2, 1, 5], # JvB\n",
    "    np.arange(2, 50) # K\n",
    ")"
   ]
  },
  {
   "cell_type": "code",
   "execution_count": null,
   "metadata": {},
   "outputs": [],
   "source": [
    "param_iterators = (\n",
    "    np.arange(8, 15), # L\n",
    "    [0.2, 1, 5], # JvB\n",
    "    [2,3,5,10,20,40] # K\n",
    ")"
   ]
  },
  {
   "cell_type": "markdown",
   "metadata": {},
   "source": [
    "### continuous WF"
   ]
  },
  {
   "cell_type": "code",
   "execution_count": null,
   "metadata": {},
   "outputs": [],
   "source": [
    "script = \"TFIM-logsweep-continuous-WF.py\" # name of the script to be run\n",
    "data_subdir = \"TFIM/logsweep/continuous/WF\" # subdirectory of ´data´ where to save results\n",
    "jobname_template = \"CWF-L{}JvB{}K{}\"  # job name will be created from this, inserting parameter values\n",
    "\n",
    "param_iterators = (\n",
    "    np.arange(2, 12), # L\n",
    "    [0.2, 1, 5], # JvB\n",
    "    [2, 3, 5, 10, 20, 40], # K\n",
    "    [100] # n_samples\n",
    ")\n",
    "\n",
    "time = \"3-00:00\"  # format days-hh:mm\n",
    "mem = \"1GB\"  # can use postfixes (MB, GB, ...)\n",
    "partition = \"ibIntel\""
   ]
  },
  {
   "cell_type": "code",
   "execution_count": null,
   "metadata": {},
   "outputs": [],
   "source": [
    "param_iterators = (\n",
    "    [13, 14], # L\n",
    "    [0.2, 1, 5], # JvB\n",
    "    [2, 10], # K\n",
    "    [100] # n_samples\n",
    ")\n",
    "\n",
    "time = \"3-00:00\"  # format days-hh:mm\n",
    "mem = \"100GB\"  # can use postfixes (MB, GB, ...)\n",
    "partition = \"ibIntel\""
   ]
  },
  {
   "cell_type": "markdown",
   "metadata": {},
   "source": [
    "## TFIM bang-bang "
   ]
  },
  {
   "cell_type": "code",
   "execution_count": null,
   "metadata": {},
   "outputs": [],
   "source": [
    "data_subdir = \"TFIM/bangbang/WF\" # subdirectory of ´data´ where to save results\n",
    "jobname_template = \"BBWF-L{}JvB{}nit{}\"  # job name will be created from this, inserting parameter values\n",
    "\n",
    "param_iterators = (\n",
    "    np.arange(2, 21), # L\n",
    "    [0.2, 1, 5], # JvB\n",
    "    [None], # nit\n",
    "    [200] # n_samples\n",
    ")\n",
    "\n",
    "time = \"4-00:00\"  # format days-hh:mm\n",
    "mem = \"4GB\"  # can use postfixes (MB, GB, ...)\n",
    "partition = \"compIntel\""
   ]
  }
 ],
 "metadata": {
  "hide_input": false,
  "kernelspec": {
   "display_name": "Python 3",
   "language": "python",
   "name": "python3"
  },
  "language_info": {
   "codemirror_mode": {
    "name": "ipython",
    "version": 3
   },
   "file_extension": ".py",
   "mimetype": "text/x-python",
   "name": "python",
   "nbconvert_exporter": "python",
   "pygments_lexer": "ipython3",
   "version": "3.7.3"
  },
  "toc": {
   "base_numbering": 1,
   "nav_menu": {},
   "number_sections": true,
   "sideBar": true,
   "skip_h1_title": false,
   "title_cell": "Table of Contents",
   "title_sidebar": "Contents",
   "toc_cell": false,
   "toc_position": {
    "height": "calc(100% - 180px)",
    "left": "10px",
    "top": "150px",
    "width": "222.934px"
   },
   "toc_section_display": true,
   "toc_window_display": true
  },
  "varInspector": {
   "cols": {
    "lenName": 16,
    "lenType": 16,
    "lenVar": 40
   },
   "kernels_config": {
    "python": {
     "delete_cmd_postfix": "",
     "delete_cmd_prefix": "del ",
     "library": "var_list.py",
     "varRefreshCmd": "print(var_dic_list())"
    },
    "r": {
     "delete_cmd_postfix": ") ",
     "delete_cmd_prefix": "rm(",
     "library": "var_list.r",
     "varRefreshCmd": "cat(var_dic_list()) "
    }
   },
   "types_to_exclude": [
    "module",
    "function",
    "builtin_function_or_method",
    "instance",
    "_Feature"
   ],
   "window_display": false
  }
 },
 "nbformat": 4,
 "nbformat_minor": 4
}
